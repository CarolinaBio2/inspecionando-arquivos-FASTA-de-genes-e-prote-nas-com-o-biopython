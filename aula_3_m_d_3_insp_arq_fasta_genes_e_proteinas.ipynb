{
  "nbformat": 4,
  "nbformat_minor": 0,
  "metadata": {
    "colab": {
      "provenance": [],
      "mount_file_id": "1oc3cjRs64kD8BS0syqXhansqiYG0Ssaf",
      "authorship_tag": "ABX9TyNYjY16yco24QQ6u5u5whqV",
      "include_colab_link": true
    },
    "kernelspec": {
      "name": "python3",
      "display_name": "Python 3"
    },
    "language_info": {
      "name": "python"
    }
  },
  "cells": [
    {
      "cell_type": "markdown",
      "metadata": {
        "id": "view-in-github",
        "colab_type": "text"
      },
      "source": [
        "<a href=\"https://colab.research.google.com/github/CarolinaBio2/inspecionando-arquivos-FASTA-de-genes-e-prote-nas-com-o-biopython/blob/main/aula_3_m_d_3_insp_arq_fasta_genes_e_proteinas.ipynb\" target=\"_parent\"><img src=\"https://colab.research.google.com/assets/colab-badge.svg\" alt=\"Open In Colab\"/></a>"
      ]
    },
    {
      "cell_type": "code",
      "execution_count": null,
      "metadata": {
        "id": "g1_MvG9gEcjy"
      },
      "outputs": [],
      "source": [
        "#NA AULA DO VÍDEO FOI USADO DOIS ARQ DE NUCLEOTÍDEOS E UM DE PROTEÍNA (TODOS ARQUIVOS MULTIFASTA)\n",
        "#COMO BAIXAR ARQUIVOS MULTIFASTA PELO NCBI?"
      ]
    },
    {
      "cell_type": "code",
      "source": [
        "pip install biopython"
      ],
      "metadata": {
        "colab": {
          "base_uri": "https://localhost:8080/"
        },
        "id": "x-j4wauS90NJ",
        "outputId": "e09a4e8f-ee1f-467a-aefe-ec181ae65670"
      },
      "execution_count": null,
      "outputs": [
        {
          "output_type": "stream",
          "name": "stdout",
          "text": [
            "Collecting biopython\n",
            "  Downloading biopython-1.84-cp310-cp310-manylinux_2_17_x86_64.manylinux2014_x86_64.whl.metadata (12 kB)\n",
            "Requirement already satisfied: numpy in /usr/local/lib/python3.10/dist-packages (from biopython) (1.26.4)\n",
            "Downloading biopython-1.84-cp310-cp310-manylinux_2_17_x86_64.manylinux2014_x86_64.whl (3.2 MB)\n",
            "\u001b[2K   \u001b[90m━━━━━━━━━━━━━━━━━━━━━━━━━━━━━━━━━━━━━━━━\u001b[0m \u001b[32m3.2/3.2 MB\u001b[0m \u001b[31m24.6 MB/s\u001b[0m eta \u001b[36m0:00:00\u001b[0m\n",
            "\u001b[?25hInstalling collected packages: biopython\n",
            "Successfully installed biopython-1.84\n"
          ]
        }
      ]
    },
    {
      "cell_type": "code",
      "source": [
        "import Bio"
      ],
      "metadata": {
        "id": "FVQLYrWK-RZE"
      },
      "execution_count": null,
      "outputs": []
    },
    {
      "cell_type": "code",
      "source": [
        "from Bio import SeqIO"
      ],
      "metadata": {
        "id": "SaipfyuY-YcB"
      },
      "execution_count": null,
      "outputs": []
    },
    {
      "cell_type": "code",
      "source": [
        "#TESTES PARA ABRIR ARQUIVOS IMPORTADOS PARA O COLAB\n",
        "for seq_record in SeqIO.parse(\"/multifastatesteprot.fasta\", \"fasta\"):\n",
        "  print(seq_record.description, id)\n",
        "for seq_record in SeqIO.parse(\"/genesmultifastateste.fna\", \"fasta\"):\n",
        "  print(seq_record.description, id)\n",
        "for seq_record in SeqIO.parse(\"/nucleotmultifasta.fasta\", \"fasta\"):\n",
        "  print(seq_record.description, id)\n",
        "  #NO FORMATO FASTA CONSEGUIMOS ACESSAR O ID, DESCRIÇÃO E SEQUÊNCIA"
      ],
      "metadata": {
        "colab": {
          "base_uri": "https://localhost:8080/"
        },
        "id": "Ur4GFobO-dja",
        "outputId": "da7e3902-2cf2-48a5-90f7-b5ba59884e48"
      },
      "execution_count": null,
      "outputs": [
        {
          "output_type": "stream",
          "name": "stdout",
          "text": [
            "BAL15075.1 p53 [Penaeus japonicus] <built-in function id>\n",
            "AAC37335.1 p53, partial [Canis lupus familiaris] <built-in function id>\n",
            "AAC53040.1 P53 [Cricetulus griseus] <built-in function id>\n",
            "BAA08629.1 p53, partial [Bos primigenius] <built-in function id>\n",
            "NC_000913.3:c2823769-2822708 recA [organism=Escherichia coli str. K-12 substr. MG1655] [GeneID=947170] [chromosome=] <built-in function id>\n",
            "NC_000913.3:4166659-4168200 rrsB [organism=Escherichia coli str. K-12 substr. MG1655] [GeneID=948466] [chromosome=] <built-in function id>\n",
            "NC_000913.3:c3883729-3882326 dnaA [organism=Escherichia coli str. K-12 substr. MG1655] [GeneID=948217] [chromosome=] <built-in function id>\n",
            "OX174962.1 Mus musculus partial mRNA for Ccdc50 partial novel isoform (Ccdc50 gene), strain Mus musculus <built-in function id>\n",
            "OW028383.1 Mus musculus partial mRNA for Grxcr1 novel isoform (Grxcr1 gene), strain Mus musculus <built-in function id>\n",
            "AF133710.1 Mus musculus acrosomal protein SP-10 (acrv1) gene, promoter sequence and 5'-UTR <built-in function id>\n",
            "AJ968954.1 Mus musculus mRNA for SUV3L1 protein, strain SAMP8/Ta <built-in function id>\n"
          ]
        }
      ]
    },
    {
      "cell_type": "code",
      "source": [
        "#CRIANDO UMA LISTA VAZIA PARA COLOCAR INFORMAÇÕES DENTRO\n",
        "lista = []\n",
        "for seq_record in SeqIO.parse(\"/nucleotmultifasta.fasta\", \"fasta\"):\n",
        "  if 'pseudo=true' in seq_record.description:\n",
        "    lista.append(seq_record.id)\n",
        "  with open('/record_ids', 'w') as arquivo:\n",
        "    for item in lista:\n",
        "      arquivo.write(item + '\\n')  # O /N SIGNIFICA UMA PULADA DE LINHA\n",
        "  #AQUI NÃO FEZ NADA PORQUE NÃO TEM O \"PSEUDO=TRUE NO ARQUIVO DO NUCLEOTMULTIFASTA\"\n"
      ],
      "metadata": {
        "id": "Q79hJpPsZhI5"
      },
      "execution_count": null,
      "outputs": []
    },
    {
      "cell_type": "code",
      "source": [
        "lista = []\n",
        "for seq_record in SeqIO.parse(\"/nucleot_pseudoteste\", \"fasta\"):\n",
        "  if 'pseudo=true' in seq_record.description:\n",
        "    lista.append(seq_record.id)\n",
        "  with open('/record_ids', 'w') as arquivo:\n",
        "    for item in lista:\n",
        "      arquivo.write(item + '\\n')  # O /N SIGNIFICA UMA PULADA DE LINHA\n",
        "      print(arquivo)              #NÃO SEI DE ONDE FORAM BAIXADOS ARQUIVOS COM PSEUDOGENES"
      ],
      "metadata": {
        "colab": {
          "base_uri": "https://localhost:8080/"
        },
        "id": "1avtuggLsgRW",
        "outputId": "63956ada-b857-43b0-bb04-7d83524cfbba"
      },
      "execution_count": null,
      "outputs": [
        {
          "output_type": "stream",
          "name": "stdout",
          "text": [
            "<_io.TextIOWrapper name='/record_ids' mode='w' encoding='UTF-8'>\n"
          ]
        }
      ]
    },
    {
      "cell_type": "code",
      "source": [
        "lista = []\n",
        "for seq_record in SeqIO.parse(\"/nucleot_pseudoteste\", \"fasta\"):\n",
        "  if 'pseudo=true' in seq_record.description:\n",
        "    gbkey = seq_record.description.split('] [') [-1].split(\"=\")[-1].strip(']')\n",
        "    pseudo = f\"{seq_record.id}\\t{gbkey}\"\n",
        "    lista.append(pseudo)\n",
        "    print(lista)\n",
        "    print(gbkey)\n",
        "with open(\"/record_ids\", \"w\") as arquivo:\n",
        "  for item in lista:\n",
        "    arquivo.write(item + \"\\n\")\n",
        "    #AQUI EU ESCREVI MANUALMENTE O LOCALIZADOR \"PSEUDO=TRUE\" EM UMA DAS LINHAS DO ARQUIVO \"NUCLEOT_PSEUDOTESTE\"; EU NÃO SEI DE ONDE FORAM BAIXADOS OS ARQUIVOS DA AULA QUE CONTÉM VÁRIOS LOCALIZADORES DE \"PSEUDO=TRUE\""
      ],
      "metadata": {
        "colab": {
          "base_uri": "https://localhost:8080/"
        },
        "id": "FAqmP-kDxv8-",
        "outputId": "33880d25-6f5f-4195-a5cf-75a263de1464"
      },
      "execution_count": null,
      "outputs": [
        {
          "output_type": "stream",
          "name": "stdout",
          "text": [
            "['AJ968954.1\\ttrue']\n",
            "true\n"
          ]
        }
      ]
    },
    {
      "cell_type": "code",
      "source": [
        "from Bio import SeqIO\n",
        "import glob\n",
        "for file in glob.glob(\"*.fasta\"):\n",
        "  lista = []\n",
        "  for seq_record in SeqIO.parse(file, \"fasta\"):\n",
        "    if \"pseudo=true\" in seq_record.description:\n",
        "      gbkey = seq_record.description.split('] [') [-1].split(\"=\")[-1].strip(']')\n",
        "    pseudo = f\"{seq_record.id}\\t{gbkey}\"\n",
        "    lista.append(pseudo)\n",
        "with open(\"/nucleot_pseudoteste\", \"w\") as arquivo:\n",
        "  for item in lista:\n",
        "    arquivo.write(item + \"\\n\")\n",
        "    print(lista)\n",
        "#AQUI SÓ TEM UM ID PARA IMPRIMIR, POIS É O ÚNICO QUE TEM O LOCALIZADOR PSEUDO=TRUE EM SUA LINHA (FOI ESCRITO MANUALMENTE)\n",
        "#OS ARQUIVOS USADOS EM AULA ESTÃO TODOS DISPONIBILIZADOS NA DESCRIÇÃO DA AULA!!!!!!!!!!!!!!!!!!!!!!!!!!!!!"
      ],
      "metadata": {
        "colab": {
          "base_uri": "https://localhost:8080/"
        },
        "id": "ZtIG_RZ86B7H",
        "outputId": "1d2da5c6-1724-4fcd-e6b2-560a244f9f3a"
      },
      "execution_count": null,
      "outputs": [
        {
          "output_type": "stream",
          "name": "stdout",
          "text": [
            "['AJ968954.1\\ttrue']\n"
          ]
        }
      ]
    },
    {
      "cell_type": "markdown",
      "source": [],
      "metadata": {
        "id": "9oDpo72C6rS6"
      }
    }
  ]
}